{
 "cells": [
  {
   "cell_type": "markdown",
   "metadata": {},
   "source": [
    "# Wind fields in MOGUNTIA\n",
    "\n",
    "As explained in the MAQ11306 Air Quality Practical Manual, Moguntia is a global, 3D air quality model. To save computing time, the model uses coarse grid boxes (10 x 10 degrees, 10 vertical levels) and monthly average wind fields. Those wind fields are provided by the ECMWF (European Center for Medium-Range Weather Forecast, ecmwf.int) weather model in 1987, because 1987 had winds (General Circulation, Monsoon, El Nino, jet streams) that were very close to climatology.\n",
    "\n",
    "In this exercise you will explore how the wind fields behave in Moguntia.\n",
    "\n",
    "## IPython Notebooks\n",
    "You are now working in an IPython Notebook, where text and python commands are alternated in different cells. The text explains what to do, whereas the Python cells do the work. The Python commands can be activated by selecting the cell and typing < SHIFT >+< ENTER >. \n",
    "\n",
    "N.B.: Make sure you are working with Python 2, not Python 3. You can check on the right side of the menu bar. You can change to Python 2 via the menu: Kernel --> Change Kernel --> Python 2.\n",
    "    \n",
    "**NOTE: Sometimes you will modify the Python command or change in input file. In those situations, you will have to run the Python cell again by typing < SHIFT > + < ENTER >. **"
   ]
  },
  {
   "cell_type": "code",
   "execution_count": 1,
   "metadata": {
    "scrolled": false
   },
   "outputs": [
    {
     "data": {
      "application/vnd.jupyter.widget-view+json": {
       "model_id": "1b9b5eaa00b444a89f2bf64a22b06444",
       "version_major": 2,
       "version_minor": 0
      },
      "text/plain": [
       "interactive(children=(ToggleButtons(description='Plottype', options=('lat-lon', 'zonal-aver', 'lat-pres', 'lon…"
      ]
     },
     "metadata": {},
     "output_type": "display_data"
    }
   ],
   "source": [
    "%matplotlib inline\n",
    "\n",
    "from Cwind import *\n",
    "xwind = Cwind()\n",
    "a = interact(xwind.plot_wind, \n",
    "         action=xwind.action,\n",
    "         month=xwind.m_slider,\n",
    "         lon=xwind.lon_slider,\n",
    "         lat=xwind.lat_slider,\n",
    "         pres=xwind.pres_slider)\n"
   ]
  },
  {
   "cell_type": "markdown",
   "metadata": {},
   "source": [
    "\n",
    "\n",
    "After you have activated the Python commands in the cell above, you can select the plot type:\n",
    "- lat-lon    = horizontal map at the selected pressure level.\n",
    "- zonal-aver = zonal average (the average wind speed over all longitudes). The x-axis shows the latitide ($^\\circN$) the y-axis the height as pressure coordinates (1000 hPa at the surface, 100 hPa at the top of the atmosphere).\n",
    "- lat-pres   = similar to zonal average, but now only for the longitude selected by the slider\n",
    "- lon-pres   = similar to lat-pres, but now with longitude ($^\\circ$E)\n",
    "\n",
    "## <font color=\"red\">Exercise 1: Investigate the wind patterns in MOGUNTIA</font>\n",
    "<font color=\"red\">\n",
    "Answer the following questions:\n",
    "\n",
    "  1.1 (Select lat-lon): Look for the trade winds (the lower leg of the Hadley Cell) and find the location of the ITCZ. How does the latitude of the ITCZ vary between the summer and winter?<br>\n",
    "  1.2 Where does the inter-hemispheric exchange of air take place? (i.e where in the zonal average plot can winds move from the Northern to the Southern branch of the Hadley cell?)<br>\n",
    "  1.3 Can you identify the location of the jet-stream?<br>\n",
    " \n",
    "</font>"
   ]
  },
  {
   "cell_type": "code",
   "execution_count": null,
   "metadata": {},
   "outputs": [],
   "source": []
  }
 ],
 "metadata": {
  "kernelspec": {
   "display_name": "Python 3",
   "language": "python",
   "name": "python3"
  },
  "language_info": {
   "codemirror_mode": {
    "name": "ipython",
    "version": 3
   },
   "file_extension": ".py",
   "mimetype": "text/x-python",
   "name": "python",
   "nbconvert_exporter": "python",
   "pygments_lexer": "ipython3",
   "version": "3.6.3"
  }
 },
 "nbformat": 4,
 "nbformat_minor": 1
}
