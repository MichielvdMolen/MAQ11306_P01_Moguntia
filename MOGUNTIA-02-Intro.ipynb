{
 "cells": [
  {
   "cell_type": "markdown",
   "metadata": {},
   "source": [
    "---------\n",
    "# 2. Introduction into MOGUNTIA: \n",
    "##### Maarten Krol, Michiel van der Molen, version 4.0, August 2020\n",
    "----------\n",
    "\n",
    "In the previous IPython Notebook (MOGUNTIA-01-Wind.ipynb), you learned to inspect how the winds blow in MOGUNTIA. In this IPython Notebook you will learn how to configure MOGUNTIA as a global air quality model. Here you will do a simulation that is closely related to lecture *L01 Introduction, structure and composition of the atmosphere*, where we explained the concentp of lifetime in a situation with constant emissions and a constant relative loss rate. In the lecture we explained it for a single box model, here we will do it in a global air quality model. This is in preparation for the next IPython Notebook (MOGUNTIA-03-CO2.ipynb), where you will use MOGUNTIA to simulate the global atmospheric $CO_2$ balance.\n",
    "\n",
    "## 2.1 MOGUNTIA solves the budget equation\n",
    "Air Quality is simulated in MOGUNTIA based on a budget equation:\n",
    "\n",
    "\\begin{equation*}\n",
    "\\frac{dm}{dt} = E - D + P - L + Advection + Turbulent Diffusion,\n",
    "\\end{equation*}\n",
    "where dm/dt is the rate of change of the mass in time, E is Emission, D is Deposition (at the Earth's surface), P is chemical Production and L is chemical Loss. Advection is the process where the species increases because the wind brings air with higher concentration and turbulent diffusion is the process where the concentration increases when air in the grid cell is mixed with air with higher concentrations. The advection and diffusion terms can be negative too. Advection and diffusion are handled by MOGUNTIA itself. But you need to specify the E, D, P and L terms in an input file. MOGUNTIA reads the input file and solves the budget equation by integrating it over time for each grid cell individually. Because MOGUNTIA is a spatially explicit model, you may vary the emissions across the globe.\n",
    "\n",
    "## 2.2. Configuring MOGUNTIA\n",
    "Running MOGUNTIA is basically solving (integrating) the budget equation in time. Many model aspects are already prepared in MOGUNTIA, such as the grid sizes, the winds and how winds and turbulence mix air and its components (advection and diffusion). The only things you need to do are to tell MOGUNTIA:\n",
    "- which period to run (START_DATE, END_DATE)\n",
    "- what component is simulated (NAME, MOLMASS, START_CONCENTRATION)\n",
    "- how the component is emitted (EMISSION from SEA or LAND and its rate)\n",
    "- how this component decays (LIFE_TIME) or\n",
    "- how it is produced or destroyed by chemical reactions with another component (like OH)\n",
    "- how you want to show the results (OUTPUT).\n",
    "\n",
    "So, some 10 run characteristics, that must be doable. You need to write or edit an input file is available to tell MOGUNTIA how you want to configure it. This will be explained in the next section.\n",
    "\n",
    "\n",
    "## 2.3. The input file and its syntax\n",
    "Let us open the input file to inspect what it does. \n",
    "- return to the file exporer tab (the window that opened when you first logged in)\n",
    "- open the input file CO2_Exercise1.in\n",
    "- you will see that the input file specifies:\n",
    "   - *run* characteristics: TITLE, START_DATE and END_DATE\n",
    "   - *species* characteristics: NAME (of the simulated species), its MOLMASS, START_CONCENTRATION (ppb), LIFE_TIME (-1 means no chemical loss) and the EMISSION rate (molecules/cm2/s).\n",
    "   - *output* specification: the model outputs monthly concentrations at a few selected <b>stations</b> and monthly <b>latlon</b> maps (at 1000 hPa, near the surface) and <b>zonal averages</b>.\n",
    "   - if a line starts with a **space**, MOGUNTIA will explain it as a **comment** and not read it.\n",
    "   - benefit from automatic highlighting comments by starting them with # (it will improve the readability of the input file)\n",
    "   \n",
    "A detailed description of the input options is given <a href=\"http://www.staff.science.uu.nl/~krol0101/moguntia/MANUAL/moguntia.doc/\">here</a>. Take some 10 minutes to browse through the input file and find out what the commands mean.\n",
    "\n",
    "## <font color=\"red\"> Exercise 2.1 File Syntax\n",
    "<font color=\"red\">\n",
    "    \n",
    "- what is the start concentration? Make sure that you set the start concentration to 0 ppb for now.\n",
    "- what are the intrinsic units for concentration in MOGUNTIA?\n",
    "- what are the alternative options for specifying a decay?\n",
    "- the EMISSION command is not included yet. Check out its syntax in the MOGUNTIA manual, so you can include it in the next section.\n",
    "- the input file specifies 4 types of outputs (figures), STATION_OUTPUT, STATION name ..., OUTPUT LATLON and OUTPUT ZONAL_AVERAGE. Lookup the commands in the MOGUNTIA manual and figure out what the commands mean.\n",
    "</font>"
   ]
  },
  {
   "cell_type": "markdown",
   "metadata": {},
   "source": [
    "## 2.4 Running MOGUNTIA\n",
    "If you understand what the input file means to MOGUNTIA, you can proceed with running the model. The steps below explain how to do this.\n",
    "\n",
    "1. N.B.: For <i>MOGUNTIA-02-Intro.ipynb</i> make sure you are working with Python 2, not Python 3. You can check on the right side of the menu bar. You can change to Python 2 via the menu: Kernel --> Change Kernel --> Python 2.\n",
    "1. To run the model and to show the model output, we use a Python interface. The command below: \"pm1 = plot_moguntia()\", opens a menu to ask for the input file, starts the model instance after pressing 'Run Model' and saves the model output in the variable pm1. The output is then plotted with Python. Note that the model itself is run in Fortran, which is much faster than Python, but not as interactive.  \n",
    "1. Go to the cell below and press **SHIFT** + **ENTER**.\n",
    "1. Select the **inputfile**, the dropdown menu lists the present input files  (*.in). Select CO2_Exercise2.in.\n",
    "1. Run MOGUNTIA by clicking **Run Model**. This will now run the MOGUNTIA model (solving the budget equation in time, depending on the description you gave in the input file. This may take a short while. When the simulation is finished, the requested output files will appear in the block **Output**:\n",
    "    - Introduction..stations: creates time series of concentrations sampled at specified locations. These are modelled time series which you may use to compare with observed time series.\n",
    "    - Introduction.ll_yyyy_mm: lat-lon maps at a specified height (pressure level). These are useful to locate the major sources and sinks and to see the effect of transport\n",
    "    - Introduction.za_yyyy_mm: zonal average: East-West average concentration, it shows concentration figures with latitude on the x-axis and height on the y-axis.\n",
    "the tickbox 'automatic' means that the colour scales will be set automatically. This is often useful, except when you want to see how concentrations are changing in time in a model run with increasing concentrations: all figures will look alike, because only the colour scale will change. In those situations it is better to untick the 'automatic' tickbox and set a fixed scale. Experiment a bit with the different output types.\n",
    "\n",
    "1. Select the units in the figures (ppm is conventional for CO2).\n",
    "1. Select the outputs you want and press **Make Plots**.\n",
    "1. The overplot function will be explained later.\n",
    "\n",
    "N.B.: The lat-lon and zonal average plots fail at this time, because Python cannot draw contours since there are no concentration differences yet. This will come later.\n"
   ]
  },
  {
   "cell_type": "code",
   "execution_count": null,
   "metadata": {},
   "outputs": [],
   "source": [
    "%pylab inline\n",
    "from plot_moguntia import *\n",
    "\n",
    "pm1 = plot_moguntia()"
   ]
  },
  {
   "cell_type": "markdown",
   "metadata": {},
   "source": [
    "## <font color=\"red\">Exercise 2.2\n",
    "<font color=\"red\">\n",
    "    \n",
    "- Follow the procedure described above and make the time series figure (Introduction..stations).</br>\n",
    "- Verify that the concentration is 0 ppm at all times and at all stations. \n",
    "\n",
    "The concentration is 0 ppm at all stations and all times because you set the START_CONCENTRATION at 0e3 ppb = 0 ppm and you did not implement any emissions yet.\n",
    "N.B.: The latlon and zonal average plots fail at this time, because Python cannot draw contours if there are no concentration differences. This will come later.\n",
    "\n",
    "- you may test what happens if you set the START_CONCENTRATION to e.g. 414 ppm, the current concentration. Do this in the input file, save the input file and run the model again.\n",
    "N.B.: sometimes you may see small concentration changes (e.g. 0.010 ppm per year, which arise from numerical diffusion in the model, this is not something to pay attention to).\n",
    "</font>"
   ]
  },
  {
   "cell_type": "markdown",
   "metadata": {},
   "source": [
    "## 2.5 Implementing emissions\n",
    "As in the lecture, we will implement an emission of 10 Pg C yr$^{-1}$ into the atmosphere, which is a realistic value.\n",
    "\n",
    "For this purpose we will use the EMISSION command. Check out the description in <a href=\"http://www.staff.science.uu.nl/~krol0101/moguntia/MANUAL/moguntia.doc/\">http://www.staff.science.uu.nl/~krol0101/moguntia/MANUAL/moguntia.doc/</a>. Considering that the vast majority of the CO2 is emitted over land, we will use the syntax:\n",
    "\n",
    "`EMISSION LAND eeeee`\n",
    "\n",
    "where eeeee represents the total emissions from land in molecules cm$^2$ s$^{-1}$. So we need to convert 10 Pg C yr$^{-1}$ to molecules cm$^2$ s$^{-1}$:\n",
    "- 1 PgC = 10$^{15}$ gC = 10$^{15}$ / (12.0 gC/mol C) = 833$\\cdot$10$^{12}$ mole C\n",
    "- 833$\\cdot$10$^{12}$ mole C = 833$\\cdot$10$^{12}$ mole C * 6.023$\\cdot$10$^{23}$ molecules/mole = 5.017$\\cdot$10$^{38}$ molecules C\n",
    "- The earth's surface area A = 510.1$\\cdot$10$^{6}$ km$^2$ = 510.1$\\cdot$10$^{6}$ *10$^{6}$ m$^2$ km$^{-2}$ * 10$^{4}$ cm$^{2}$ m$^{-2}$ = 510.1$\\cdot$10$^{16}$ cm$^2$\n",
    "- t = 1 yr = 1 yr * 360 days/yr *24 hours/day *3600 seconds/day = 31104000 s (Moguntia works with 12 months of 30 days = 360 days) \n",
    "- EMISSION = 5.017e38 molecules C/ 510.1e16 cm2 / 31104000 s = 3.16e12 molecules/cm2/s\n",
    "- However, the emissions are concentrated over land (~1/3 of the Earth's surface), so they are three times larger there and 0 over sea: <font color=\"blue\">EMISSION LAND 9.49e12</font>.\n",
    "- This will implement CO$_2$ emissions over land into the model. Note that the emissions are equally distributed over all land pixels, the simulated emissions are not larger over industrial areas than over natural areas.\n",
    "\n",
    "\n"
   ]
  },
  {
   "cell_type": "code",
   "execution_count": null,
   "metadata": {},
   "outputs": [],
   "source": [
    "%pylab inline\n",
    "from plot_moguntia import *\n",
    "\n",
    "pm1 = plot_moguntia()"
   ]
  },
  {
   "cell_type": "markdown",
   "metadata": {},
   "source": [
    "## <font color=\"red\"> Exercise 2.3 \n",
    "<font color=\"red\">\n",
    "\n",
    "- Implement the line `EMISSION LAND 9.49e12` in the input file:\n",
    "- Run the model again (cell above) and make the time series figure.\n",
    "\n",
    "\n",
    "- How does the concentration increase in time, linearly, exponentially or towards an equilibrium? Explain?\n",
    "- Make a few lat-lon figures and a few zonal average figures too.\n",
    "- Why isn't the concentration identical at all locations and altitudes?\n",
    "</font>"
   ]
  },
  {
   "cell_type": "markdown",
   "metadata": {},
   "source": [
    "## 2.6 Implementing life time\n",
    "\n",
    "In the example in lecture L01, we worked with a relative loss rate of 0.1% s$^{-1}$. Furthermore it was explained that the life time of a species can be calculated from the relative loss rate (See Lecture notes on Brightspace). Let's now implement a life time in MOGUNTIA.\n",
    "\n",
    "\n",
    "## <font color=\"red\">Exercise 2.4\n",
    "<font color=\"red\">\n",
    "    \n",
    "- inspect the syntax of the LIFE_TIME command on <a href=\"https://webspace.science.uu.nl/~krol0101/moguntia/MANUAL/moguntia.doc/\">https://webspace.science.uu.nl/~krol0101/moguntia/MANUAL/moguntia.doc/</a>.\n",
    "- Calculate the life time assuming a relative loss rate of 0.2777 % yr$^{-1}$. (This is less than in the lecture, because otherwise the life time would be 1000 s, which is shorter than the time step of the model (1 day)).\n",
    "- Convert the life time from years to days, because the LIFE_TIME command takes life time in days.\n",
    "- Change the value of the LIFE_TIME in the input file accordingly.\n",
    "- run the model again and check how the concentration evolves over time.\n",
    "\n",
    "\n",
    "- Compare the time series figure with the one in the lecture slides. What are the similarities and what are the differences?\n",
    "- Why does the concentration approach an equilibrium?\n",
    "- How long does it take to reach 63% and 95% of the equilibrium concentration, if expressed in number of life times?\n",
    "- The life time represents some sort of radioactive decay in the atmosphere. How can you write the loss term L correctly in the budget equation? (Check lecture notes)."
   ]
  },
  {
   "cell_type": "code",
   "execution_count": null,
   "metadata": {},
   "outputs": [],
   "source": [
    "%pylab inline\n",
    "from plot_moguntia import *\n",
    "\n",
    "pm1 = plot_moguntia()"
   ]
  },
  {
   "cell_type": "markdown",
   "metadata": {},
   "source": [
    "## 2.7 Final comments\n",
    "\n",
    "In this practical you have learned to operate MOGUNTIA, how to work with the input file and how to produce output plots.\n",
    "You have implemented emissions and some form or removal, although the removal process is not very realistic yet. In the next practical, you will learn how to make the global CO2 budget much more realistic.\n",
    "\n",
    "If you feel you are comfortable with working with MOGUNTIA, you are ready for the next practical, otherwise it is better to experiment more with the input file and test how it affects the resulting concentrations.\n",
    "\n",
    "A few tips for MOGUNTIA input files:\n",
    "- make only small changes at the time, then try running MOGUNTIA. \n",
    "    If you do many changes at the same time, you won't know where you made a mistake if you made one.\n",
    "- keep the file organised in sections.\n",
    "- you may add sampling stations, but be aware that the station name should be written entirely without spaces.\n",
    "- after changing the input file, save it (<CTRL> + S), select the input file and run MOGUNTIA again."
   ]
  }
 ],
 "metadata": {
  "kernelspec": {
   "display_name": "Python 2",
   "language": "python",
   "name": "python2"
  },
  "language_info": {
   "codemirror_mode": {
    "name": "ipython",
    "version": 2
   },
   "file_extension": ".py",
   "mimetype": "text/x-python",
   "name": "python",
   "nbconvert_exporter": "python",
   "pygments_lexer": "ipython2",
   "version": "2.7.15"
  }
 },
 "nbformat": 4,
 "nbformat_minor": 1
}
